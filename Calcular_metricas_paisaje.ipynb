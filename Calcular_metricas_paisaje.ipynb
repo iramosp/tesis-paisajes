{
 "cells": [
  {
   "cell_type": "markdown",
   "metadata": {},
   "source": [
    "# Calcular métricas de paisajes"
   ]
  },
  {
   "cell_type": "markdown",
   "metadata": {},
   "source": [
    "Calcular métricas a nivel de clase y de paisaje para las regiones seleccionadas, usando el paquete en R `landscapemetrics` (https://onlinelibrary.wiley.com/doi/full/10.1111/ecog.04617, https://r-spatialecology.github.io/landscapemetrics/)."
   ]
  },
  {
   "cell_type": "code",
   "execution_count": 1,
   "metadata": {},
   "outputs": [
    {
     "name": "stderr",
     "output_type": "stream",
     "text": [
      "rgdal: version: 1.4-3, (SVN revision 828)\n",
      " Geospatial Data Abstraction Library extensions to R successfully loaded\n",
      " Loaded GDAL runtime: GDAL 2.2.3, released 2017/11/20\n",
      " Path to GDAL shared files: C:/Users/Irene/Documents/R/win-library/3.5/rgdal/gdal\n",
      " GDAL binary built with GEOS: TRUE \n",
      " Loaded PROJ.4 runtime: Rel. 4.9.3, 15 August 2016, [PJ_VERSION: 493]\n",
      " Path to PROJ.4 shared files: C:/Users/Irene/Documents/R/win-library/3.5/rgdal/proj\n",
      " Linking to sp version: 1.3-1 \n",
      "Linking to GEOS 3.6.1, GDAL 2.2.3, PROJ 4.9.3\n",
      "\n",
      "Attaching package: 'dplyr'\n",
      "\n",
      "The following objects are masked from 'package:raster':\n",
      "\n",
      "    intersect, select, union\n",
      "\n",
      "The following objects are masked from 'package:stats':\n",
      "\n",
      "    filter, lag\n",
      "\n",
      "The following objects are masked from 'package:base':\n",
      "\n",
      "    intersect, setdiff, setequal, union\n",
      "\n",
      "\n",
      "Attaching package: 'tidyr'\n",
      "\n",
      "The following object is masked from 'package:raster':\n",
      "\n",
      "    extract\n",
      "\n"
     ]
    }
   ],
   "source": [
    "library(sp)\n",
    "library(rgdal)\n",
    "library(landscapemetrics)\n",
    "library(landscapetools)\n",
    "library(sf)\n",
    "library(raster)\n",
    "library(dplyr)\n",
    "library(tidyr)"
   ]
  },
  {
   "cell_type": "markdown",
   "metadata": {},
   "source": [
    "En total se tienen cinco paisajes en distritos diferentes (`distrito`) y cinco puntos en el tiempo (`serie`)."
   ]
  },
  {
   "cell_type": "code",
   "execution_count": 2,
   "metadata": {
    "scrolled": false
   },
   "outputs": [
    {
     "name": "stdout",
     "output_type": "stream",
     "text": [
      "[1] \"v\"\n"
     ]
    },
    {
     "name": "stderr",
     "output_type": "stream",
     "text": [
      "Warning message:\n",
      "\"Class 1: PAFRAC = NA for class with < 10 patches\"Warning message:\n",
      "\"Class 2: PAFRAC = NA for class with < 10 patches\"Warning message:\n",
      "\"Class 7: PAFRAC = NA for class with < 10 patches\"Warning message:\n",
      "\"No maximum number of classes provided: RPR = NA\""
     ]
    },
    {
     "name": "stdout",
     "output_type": "stream",
     "text": [
      "[1] \"v\"\n"
     ]
    },
    {
     "name": "stderr",
     "output_type": "stream",
     "text": [
      "Warning message:\n",
      "\"Class 4: ENN = NA for class with only 1 patch\"Warning message:\n",
      "\"Class 4: ENN = NA for class with only 1 patch\"Warning message:\n",
      "\"Class 4: ENN = NA for class with only 1 patch\"Warning message:\n",
      "\"Class 2: PAFRAC = NA for class with < 10 patches\"Warning message:\n",
      "\"Class 4: PAFRAC = NA for class with < 10 patches\"Warning message:\n",
      "\"Class 7: PAFRAC = NA for class with < 10 patches\"Warning message:\n",
      "\"Class 4: ENN = NA for class with only 1 patch\"Warning message:\n",
      "\"Class 4: ENN = NA for class with only 1 patch\"Warning message:\n",
      "\"Class 4: ENN = NA for class with only 1 patch\"Warning message:\n",
      "\"No maximum number of classes provided: RPR = NA\""
     ]
    },
    {
     "name": "stdout",
     "output_type": "stream",
     "text": [
      "[1] \"v\"\n"
     ]
    },
    {
     "name": "stderr",
     "output_type": "stream",
     "text": [
      "Warning message:\n",
      "\"Class 4: ENN = NA for class with only 1 patch\"Warning message:\n",
      "\"Class 4: ENN = NA for class with only 1 patch\"Warning message:\n",
      "\"Class 4: ENN = NA for class with only 1 patch\"Warning message:\n",
      "\"Class 4: PAFRAC = NA for class with < 10 patches\"Warning message:\n",
      "\"Class 7: PAFRAC = NA for class with < 10 patches\"Warning message:\n",
      "\"Class 4: ENN = NA for class with only 1 patch\"Warning message:\n",
      "\"Class 4: ENN = NA for class with only 1 patch\"Warning message:\n",
      "\"Class 4: ENN = NA for class with only 1 patch\"Warning message:\n",
      "\"No maximum number of classes provided: RPR = NA\""
     ]
    },
    {
     "name": "stdout",
     "output_type": "stream",
     "text": [
      "[1] \"v\"\n"
     ]
    },
    {
     "name": "stderr",
     "output_type": "stream",
     "text": [
      "Warning message:\n",
      "\"Class 4: PAFRAC = NA for class with < 10 patches\"Warning message:\n",
      "\"Class 7: PAFRAC = NA for class with < 10 patches\"Warning message:\n",
      "\"No maximum number of classes provided: RPR = NA\""
     ]
    },
    {
     "name": "stdout",
     "output_type": "stream",
     "text": [
      "[1] \"v\"\n"
     ]
    },
    {
     "name": "stderr",
     "output_type": "stream",
     "text": [
      "Warning message:\n",
      "\"Class 4: PAFRAC = NA for class with < 10 patches\"Warning message:\n",
      "\"Class 7: PAFRAC = NA for class with < 10 patches\"Warning message:\n",
      "\"No maximum number of classes provided: RPR = NA\""
     ]
    },
    {
     "name": "stdout",
     "output_type": "stream",
     "text": [
      "[1] \"v\"\n"
     ]
    },
    {
     "name": "stderr",
     "output_type": "stream",
     "text": [
      "Warning message:\n",
      "\"Class 6: ENN = NA for class with only 1 patch\"Warning message:\n",
      "\"Class 6: ENN = NA for class with only 1 patch\"Warning message:\n",
      "\"Class 6: ENN = NA for class with only 1 patch\"Warning message:\n",
      "\"Class 1: PAFRAC = NA for class with < 10 patches\"Warning message:\n",
      "\"Class 2: PAFRAC = NA for class with < 10 patches\"Warning message:\n",
      "\"Class 4: PAFRAC = NA for class with < 10 patches\"Warning message:\n",
      "\"Class 6: PAFRAC = NA for class with < 10 patches\"Warning message:\n",
      "\"Class 6: ENN = NA for class with only 1 patch\"Warning message:\n",
      "\"Class 6: ENN = NA for class with only 1 patch\"Warning message:\n",
      "\"Class 6: ENN = NA for class with only 1 patch\"Warning message:\n",
      "\"No maximum number of classes provided: RPR = NA\""
     ]
    },
    {
     "name": "stdout",
     "output_type": "stream",
     "text": [
      "[1] \"v\"\n"
     ]
    },
    {
     "name": "stderr",
     "output_type": "stream",
     "text": [
      "Warning message:\n",
      "\"Class 6: ENN = NA for class with only 1 patch\"Warning message:\n",
      "\"Class 6: ENN = NA for class with only 1 patch\"Warning message:\n",
      "\"Class 6: ENN = NA for class with only 1 patch\"Warning message:\n",
      "\"Class 2: PAFRAC = NA for class with < 10 patches\"Warning message:\n",
      "\"Class 4: PAFRAC = NA for class with < 10 patches\"Warning message:\n",
      "\"Class 6: PAFRAC = NA for class with < 10 patches\"Warning message:\n",
      "\"Class 6: ENN = NA for class with only 1 patch\"Warning message:\n",
      "\"Class 6: ENN = NA for class with only 1 patch\"Warning message:\n",
      "\"Class 6: ENN = NA for class with only 1 patch\"Warning message:\n",
      "\"No maximum number of classes provided: RPR = NA\""
     ]
    },
    {
     "name": "stdout",
     "output_type": "stream",
     "text": [
      "[1] \"v\"\n"
     ]
    },
    {
     "name": "stderr",
     "output_type": "stream",
     "text": [
      "Warning message:\n",
      "\"Class 6: ENN = NA for class with only 1 patch\"Warning message:\n",
      "\"Class 6: ENN = NA for class with only 1 patch\"Warning message:\n",
      "\"Class 6: ENN = NA for class with only 1 patch\"Warning message:\n",
      "\"Class 2: PAFRAC = NA for class with < 10 patches\"Warning message:\n",
      "\"Class 4: PAFRAC = NA for class with < 10 patches\"Warning message:\n",
      "\"Class 6: PAFRAC = NA for class with < 10 patches\"Warning message:\n",
      "\"Class 6: ENN = NA for class with only 1 patch\"Warning message:\n",
      "\"Class 6: ENN = NA for class with only 1 patch\"Warning message:\n",
      "\"Class 6: ENN = NA for class with only 1 patch\"Warning message:\n",
      "\"No maximum number of classes provided: RPR = NA\""
     ]
    },
    {
     "name": "stdout",
     "output_type": "stream",
     "text": [
      "[1] \"v\"\n"
     ]
    },
    {
     "name": "stderr",
     "output_type": "stream",
     "text": [
      "Warning message:\n",
      "\"Class 6: ENN = NA for class with only 1 patch\"Warning message:\n",
      "\"Class 6: ENN = NA for class with only 1 patch\"Warning message:\n",
      "\"Class 6: ENN = NA for class with only 1 patch\"Warning message:\n",
      "\"Class 4: PAFRAC = NA for class with < 10 patches\"Warning message:\n",
      "\"Class 6: PAFRAC = NA for class with < 10 patches\"Warning message:\n",
      "\"Class 6: ENN = NA for class with only 1 patch\"Warning message:\n",
      "\"Class 6: ENN = NA for class with only 1 patch\"Warning message:\n",
      "\"Class 6: ENN = NA for class with only 1 patch\"Warning message:\n",
      "\"No maximum number of classes provided: RPR = NA\""
     ]
    },
    {
     "name": "stdout",
     "output_type": "stream",
     "text": [
      "[1] \"v\"\n"
     ]
    },
    {
     "name": "stderr",
     "output_type": "stream",
     "text": [
      "Warning message:\n",
      "\"Class 4: PAFRAC = NA for class with < 10 patches\"Warning message:\n",
      "\"No maximum number of classes provided: RPR = NA\""
     ]
    },
    {
     "name": "stdout",
     "output_type": "stream",
     "text": [
      "[1] \"v\"\n"
     ]
    },
    {
     "name": "stderr",
     "output_type": "stream",
     "text": [
      "Warning message:\n",
      "\"Class 2: ENN = NA for class with only 1 patch\"Warning message:\n",
      "\"Class 2: ENN = NA for class with only 1 patch\"Warning message:\n",
      "\"Class 2: ENN = NA for class with only 1 patch\"Warning message:\n",
      "\"Class 2: PAFRAC = NA for class with < 10 patches\"Warning message:\n",
      "\"Class 4: PAFRAC = NA for class with < 10 patches\"Warning message:\n",
      "\"Class 2: ENN = NA for class with only 1 patch\"Warning message:\n",
      "\"Class 2: ENN = NA for class with only 1 patch\"Warning message:\n",
      "\"Class 2: ENN = NA for class with only 1 patch\"Warning message:\n",
      "\"No maximum number of classes provided: RPR = NA\""
     ]
    },
    {
     "name": "stdout",
     "output_type": "stream",
     "text": [
      "[1] \"v\"\n"
     ]
    },
    {
     "name": "stderr",
     "output_type": "stream",
     "text": [
      "Warning message:\n",
      "\"Class 2: ENN = NA for class with only 1 patch\"Warning message:\n",
      "\"Class 2: ENN = NA for class with only 1 patch\"Warning message:\n",
      "\"Class 2: ENN = NA for class with only 1 patch\"Warning message:\n",
      "\"Class 2: PAFRAC = NA for class with < 10 patches\"Warning message:\n",
      "\"Class 3: PAFRAC = NA for class with < 10 patches\"Warning message:\n",
      "\"Class 4: PAFRAC = NA for class with < 10 patches\"Warning message:\n",
      "\"Class 2: ENN = NA for class with only 1 patch\"Warning message:\n",
      "\"Class 2: ENN = NA for class with only 1 patch\"Warning message:\n",
      "\"Class 2: ENN = NA for class with only 1 patch\"Warning message:\n",
      "\"PAFRAC = NA for NP < 10\"Warning message:\n",
      "\"No maximum number of classes provided: RPR = NA\""
     ]
    },
    {
     "name": "stdout",
     "output_type": "stream",
     "text": [
      "[1] \"v\"\n"
     ]
    },
    {
     "name": "stderr",
     "output_type": "stream",
     "text": [
      "Warning message:\n",
      "\"Class 2: ENN = NA for class with only 1 patch\"Warning message:\n",
      "\"Class 2: ENN = NA for class with only 1 patch\"Warning message:\n",
      "\"Class 2: ENN = NA for class with only 1 patch\"Warning message:\n",
      "\"Class 2: PAFRAC = NA for class with < 10 patches\"Warning message:\n",
      "\"Class 3: PAFRAC = NA for class with < 10 patches\"Warning message:\n",
      "\"Class 4: PAFRAC = NA for class with < 10 patches\"Warning message:\n",
      "\"Class 2: ENN = NA for class with only 1 patch\"Warning message:\n",
      "\"Class 2: ENN = NA for class with only 1 patch\"Warning message:\n",
      "\"Class 2: ENN = NA for class with only 1 patch\"Warning message:\n",
      "\"PAFRAC = NA for NP < 10\"Warning message:\n",
      "\"No maximum number of classes provided: RPR = NA\""
     ]
    },
    {
     "name": "stdout",
     "output_type": "stream",
     "text": [
      "[1] \"v\"\n"
     ]
    },
    {
     "name": "stderr",
     "output_type": "stream",
     "text": [
      "Warning message:\n",
      "\"Class 2: PAFRAC = NA for class with < 10 patches\"Warning message:\n",
      "\"Class 4: PAFRAC = NA for class with < 10 patches\"Warning message:\n",
      "\"No maximum number of classes provided: RPR = NA\""
     ]
    },
    {
     "name": "stdout",
     "output_type": "stream",
     "text": [
      "[1] \"v\"\n"
     ]
    },
    {
     "name": "stderr",
     "output_type": "stream",
     "text": [
      "Warning message:\n",
      "\"Class 2: PAFRAC = NA for class with < 10 patches\"Warning message:\n",
      "\"Class 4: PAFRAC = NA for class with < 10 patches\"Warning message:\n",
      "\"No maximum number of classes provided: RPR = NA\""
     ]
    },
    {
     "name": "stdout",
     "output_type": "stream",
     "text": [
      "[1] \"v\"\n"
     ]
    },
    {
     "name": "stderr",
     "output_type": "stream",
     "text": [
      "Warning message:\n",
      "\"Class 5: ENN = NA for class with only 1 patch\"Warning message:\n",
      "\"Class 5: ENN = NA for class with only 1 patch\"Warning message:\n",
      "\"Class 5: ENN = NA for class with only 1 patch\"Warning message:\n",
      "\"Class 2: PAFRAC = NA for class with < 10 patches\"Warning message:\n",
      "\"Class 4: PAFRAC = NA for class with < 10 patches\"Warning message:\n",
      "\"Class 5: PAFRAC = NA for class with < 10 patches\"Warning message:\n",
      "\"Class 6: PAFRAC = NA for class with < 10 patches\"Warning message:\n",
      "\"Class 5: ENN = NA for class with only 1 patch\"Warning message:\n",
      "\"Class 5: ENN = NA for class with only 1 patch\"Warning message:\n",
      "\"Class 5: ENN = NA for class with only 1 patch\"Warning message:\n",
      "\"No maximum number of classes provided: RPR = NA\""
     ]
    },
    {
     "name": "stdout",
     "output_type": "stream",
     "text": [
      "[1] \"v\"\n"
     ]
    },
    {
     "name": "stderr",
     "output_type": "stream",
     "text": [
      "Warning message:\n",
      "\"Class 2: PAFRAC = NA for class with < 10 patches\"Warning message:\n",
      "\"Class 4: PAFRAC = NA for class with < 10 patches\"Warning message:\n",
      "\"No maximum number of classes provided: RPR = NA\""
     ]
    },
    {
     "name": "stdout",
     "output_type": "stream",
     "text": [
      "[1] \"v\"\n"
     ]
    },
    {
     "name": "stderr",
     "output_type": "stream",
     "text": [
      "Warning message:\n",
      "\"Class 2: PAFRAC = NA for class with < 10 patches\"Warning message:\n",
      "\"Class 4: PAFRAC = NA for class with < 10 patches\"Warning message:\n",
      "\"No maximum number of classes provided: RPR = NA\""
     ]
    },
    {
     "name": "stdout",
     "output_type": "stream",
     "text": [
      "[1] \"v\"\n"
     ]
    },
    {
     "name": "stderr",
     "output_type": "stream",
     "text": [
      "Warning message:\n",
      "\"Class 2: PAFRAC = NA for class with < 10 patches\"Warning message:\n",
      "\"Class 4: PAFRAC = NA for class with < 10 patches\"Warning message:\n",
      "\"No maximum number of classes provided: RPR = NA\""
     ]
    },
    {
     "name": "stdout",
     "output_type": "stream",
     "text": [
      "[1] \"v\"\n"
     ]
    },
    {
     "name": "stderr",
     "output_type": "stream",
     "text": [
      "Warning message:\n",
      "\"No maximum number of classes provided: RPR = NA\""
     ]
    },
    {
     "name": "stdout",
     "output_type": "stream",
     "text": [
      "[1] \"v\"\n"
     ]
    },
    {
     "name": "stderr",
     "output_type": "stream",
     "text": [
      "Warning message:\n",
      "\"Class 1: PAFRAC = NA for class with < 10 patches\"Warning message:\n",
      "\"Class 2: PAFRAC = NA for class with < 10 patches\"Warning message:\n",
      "\"Class 7: PAFRAC = NA for class with < 10 patches\"Warning message:\n",
      "\"No maximum number of classes provided: RPR = NA\""
     ]
    },
    {
     "name": "stdout",
     "output_type": "stream",
     "text": [
      "[1] \"v\"\n"
     ]
    },
    {
     "name": "stderr",
     "output_type": "stream",
     "text": [
      "Warning message:\n",
      "\"Class 2: ENN = NA for class with only 1 patch\"Warning message:\n",
      "\"Class 2: ENN = NA for class with only 1 patch\"Warning message:\n",
      "\"Class 2: ENN = NA for class with only 1 patch\"Warning message:\n",
      "\"Class 1: PAFRAC = NA for class with < 10 patches\"Warning message:\n",
      "\"Class 2: PAFRAC = NA for class with < 10 patches\"Warning message:\n",
      "\"Class 7: PAFRAC = NA for class with < 10 patches\"Warning message:\n",
      "\"Class 2: ENN = NA for class with only 1 patch\"Warning message:\n",
      "\"Class 2: ENN = NA for class with only 1 patch\"Warning message:\n",
      "\"Class 2: ENN = NA for class with only 1 patch\"Warning message:\n",
      "\"No maximum number of classes provided: RPR = NA\""
     ]
    },
    {
     "name": "stdout",
     "output_type": "stream",
     "text": [
      "[1] \"v\"\n"
     ]
    },
    {
     "name": "stderr",
     "output_type": "stream",
     "text": [
      "Warning message:\n",
      "\"Class 2: ENN = NA for class with only 1 patch\"Warning message:\n",
      "\"Class 4: ENN = NA for class with only 1 patch\"Warning message:\n",
      "\"Class 2: ENN = NA for class with only 1 patch\"Warning message:\n",
      "\"Class 4: ENN = NA for class with only 1 patch\"Warning message:\n",
      "\"Class 2: ENN = NA for class with only 1 patch\"Warning message:\n",
      "\"Class 4: ENN = NA for class with only 1 patch\"Warning message:\n",
      "\"Class 1: PAFRAC = NA for class with < 10 patches\"Warning message:\n",
      "\"Class 2: PAFRAC = NA for class with < 10 patches\"Warning message:\n",
      "\"Class 4: PAFRAC = NA for class with < 10 patches\"Warning message:\n",
      "\"Class 7: PAFRAC = NA for class with < 10 patches\"Warning message:\n",
      "\"Class 2: ENN = NA for class with only 1 patch\"Warning message:\n",
      "\"Class 4: ENN = NA for class with only 1 patch\"Warning message:\n",
      "\"Class 2: ENN = NA for class with only 1 patch\"Warning message:\n",
      "\"Class 4: ENN = NA for class with only 1 patch\"Warning message:\n",
      "\"Class 2: ENN = NA for class with only 1 patch\"Warning message:\n",
      "\"Class 4: ENN = NA for class with only 1 patch\"Warning message:\n",
      "\"No maximum number of classes provided: RPR = NA\""
     ]
    },
    {
     "name": "stdout",
     "output_type": "stream",
     "text": [
      "[1] \"v\"\n"
     ]
    },
    {
     "name": "stderr",
     "output_type": "stream",
     "text": [
      "Warning message:\n",
      "\"Class 7: ENN = NA for class with only 1 patch\"Warning message:\n",
      "\"Class 7: ENN = NA for class with only 1 patch\"Warning message:\n",
      "\"Class 7: ENN = NA for class with only 1 patch\"Warning message:\n",
      "\"Class 1: PAFRAC = NA for class with < 10 patches\"Warning message:\n",
      "\"Class 2: PAFRAC = NA for class with < 10 patches\"Warning message:\n",
      "\"Class 4: PAFRAC = NA for class with < 10 patches\"Warning message:\n",
      "\"Class 7: PAFRAC = NA for class with < 10 patches\"Warning message:\n",
      "\"Class 7: ENN = NA for class with only 1 patch\"Warning message:\n",
      "\"Class 7: ENN = NA for class with only 1 patch\"Warning message:\n",
      "\"Class 7: ENN = NA for class with only 1 patch\"Warning message:\n",
      "\"No maximum number of classes provided: RPR = NA\""
     ]
    },
    {
     "name": "stdout",
     "output_type": "stream",
     "text": [
      "[1] \"v\"\n"
     ]
    },
    {
     "name": "stderr",
     "output_type": "stream",
     "text": [
      "Warning message:\n",
      "\"Class 7: ENN = NA for class with only 1 patch\"Warning message:\n",
      "\"Class 7: ENN = NA for class with only 1 patch\"Warning message:\n",
      "\"Class 7: ENN = NA for class with only 1 patch\"Warning message:\n",
      "\"Class 1: PAFRAC = NA for class with < 10 patches\"Warning message:\n",
      "\"Class 2: PAFRAC = NA for class with < 10 patches\"Warning message:\n",
      "\"Class 4: PAFRAC = NA for class with < 10 patches\"Warning message:\n",
      "\"Class 7: PAFRAC = NA for class with < 10 patches\"Warning message:\n",
      "\"Class 7: ENN = NA for class with only 1 patch\"Warning message:\n",
      "\"Class 7: ENN = NA for class with only 1 patch\"Warning message:\n",
      "\"Class 7: ENN = NA for class with only 1 patch\"Warning message:\n",
      "\"No maximum number of classes provided: RPR = NA\""
     ]
    }
   ],
   "source": [
    "for(distrito in 1:5){\n",
    "    for(serie in 2:6){\n",
    "        # lee raster\n",
    "        landscape <-  raster(sprintf('./datos/paisajes_raster/paisaje%s_serie%s_raster.tif', distrito, serie))\n",
    "        \n",
    "        # check raster\n",
    "        print(check_landscape(landscape)$OK)\n",
    "        \n",
    "        # calcula métricas de clase\n",
    "        metricas_clase <- calculate_lsm(landscape, level = 'class', full_name = TRUE)\n",
    "        \n",
    "        # calcula métricas de paisaje\n",
    "        metricas_paisaje <- calculate_lsm(landscape, level = 'landscape', full_name = TRUE)\n",
    "        \n",
    "        # guarda resultado como csv\n",
    "        write.csv(metricas_clase, \n",
    "                  sprintf('./resultados/datos_procesados/metricas/paisaje%s_serie%s_class.csv', distrito, serie))\n",
    "        write.csv(metricas_paisaje, \n",
    "                 sprintf('./resultados/datos_procesados/metricas/paisaje%s_serie%s_landscape.csv', distrito, serie))\n",
    "        \n",
    "    }\n",
    "}"
   ]
  },
  {
   "cell_type": "markdown",
   "metadata": {},
   "source": [
    "No usaré ninguna de las métricas para las que hubo advertencias. Ahora sigue analizar y graficar los resultados."
   ]
  }
 ],
 "metadata": {
  "kernelspec": {
   "display_name": "R",
   "language": "R",
   "name": "ir"
  },
  "language_info": {
   "codemirror_mode": "r",
   "file_extension": ".r",
   "mimetype": "text/x-r-source",
   "name": "R",
   "pygments_lexer": "r",
   "version": "3.5.3"
  }
 },
 "nbformat": 4,
 "nbformat_minor": 2
}
